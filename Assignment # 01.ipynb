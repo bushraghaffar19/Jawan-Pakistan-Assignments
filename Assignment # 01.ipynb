{
 "cells": [
  {
   "cell_type": "markdown",
   "id": "d43a69ea",
   "metadata": {},
   "source": [
    "# Assignment # 01"
   ]
  },
  {
   "cell_type": "code",
   "execution_count": 4,
   "id": "4140267e",
   "metadata": {},
   "outputs": [
    {
     "name": "stdout",
     "output_type": "stream",
     "text": [
      "Twinkle, twinkle, little star, \n",
      "\tHow I wonder what you are! \n",
      "\t\tUp above the world so high, \n",
      "\t\tLike a diamond in the sky. \n",
      "Twinkle, twinkle, little star, \n",
      "\tHow I wonder what you are!\n"
     ]
    }
   ],
   "source": [
    "print(\"Twinkle, twinkle, little star, \\n\\tHow I wonder what you are! \\n\\t\\tUp above the world so high, \\n\\t\\tLike a diamond in the sky. \\nTwinkle, twinkle, little star, \\n\\tHow I wonder what you are!\")"
   ]
  },
  {
   "cell_type": "code",
   "execution_count": 5,
   "id": "f463bbc6",
   "metadata": {},
   "outputs": [
    {
     "name": "stdout",
     "output_type": "stream",
     "text": [
      "Enter the python version you are using: 3.7\n",
      "3.7\n"
     ]
    }
   ],
   "source": [
    "print(input(\"Enter the python version you are using: \"))"
   ]
  },
  {
   "cell_type": "code",
   "execution_count": 7,
   "id": "aeb84f9b",
   "metadata": {},
   "outputs": [
    {
     "name": "stdout",
     "output_type": "stream",
     "text": [
      "Current date and time : 2022-01-06 23:43:06\n"
     ]
    }
   ],
   "source": [
    "import datetime \n",
    "Cdate_time= datetime.datetime.now()\n",
    "print (Cdate_time.strftime(\"Current date and time : %Y-%m-%d %H:%M:%S\"))"
   ]
  },
  {
   "cell_type": "code",
   "execution_count": 10,
   "id": "28cb4f87",
   "metadata": {},
   "outputs": [
    {
     "name": "stdout",
     "output_type": "stream",
     "text": [
      "Enter the value of radius: 25\n",
      "1963.75\n"
     ]
    }
   ],
   "source": [
    "pi = 3.142\n",
    "r = int(input(\"Enter the value of radius: \"))\n",
    "area = pi*r**2\n",
    "print(area)"
   ]
  },
  {
   "cell_type": "code",
   "execution_count": 16,
   "id": "cb0b9624",
   "metadata": {},
   "outputs": [
    {
     "name": "stdout",
     "output_type": "stream",
     "text": [
      "Enter your first name: Bushra\n",
      "Enter your last name: Ghaffar\n",
      "Ghaffar Bushra\n"
     ]
    }
   ],
   "source": [
    "fname = input(\"Enter your first name: \")\n",
    "lname = input(\"Enter your last name: \")\n",
    "Name = lname +' '+ fname\n",
    "print(Name)"
   ]
  },
  {
   "cell_type": "code",
   "execution_count": 17,
   "id": "78de2744",
   "metadata": {},
   "outputs": [
    {
     "name": "stdout",
     "output_type": "stream",
     "text": [
      "Enter any text: Assalam O Alaikum, \n",
      "Enter any text: This is Bushra Ghaffar here.\n",
      "Assalam O Alaikum, This is Bushra Ghaffar here.\n"
     ]
    }
   ],
   "source": [
    "print(input(\"Enter any text: \") + input(\"Enter any text: \"))"
   ]
  },
  {
   "cell_type": "code",
   "execution_count": null,
   "id": "029c7cb0",
   "metadata": {},
   "outputs": [],
   "source": []
  }
 ],
 "metadata": {
  "kernelspec": {
   "display_name": "Python 3 (ipykernel)",
   "language": "python",
   "name": "python3"
  },
  "language_info": {
   "codemirror_mode": {
    "name": "ipython",
    "version": 3
   },
   "file_extension": ".py",
   "mimetype": "text/x-python",
   "name": "python",
   "nbconvert_exporter": "python",
   "pygments_lexer": "ipython3",
   "version": "3.9.7"
  }
 },
 "nbformat": 4,
 "nbformat_minor": 5
}
